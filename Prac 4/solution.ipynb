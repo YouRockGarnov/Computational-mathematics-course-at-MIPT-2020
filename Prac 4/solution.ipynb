{
 "cells": [
  {
   "cell_type": "code",
   "execution_count": 10,
   "metadata": {
    "ExecuteTime": {
     "end_time": "2019-11-26T18:07:17.826412Z",
     "start_time": "2019-11-26T18:07:17.427290Z"
    },
    "pycharm": {
     "is_executing": false
    }
   },
   "outputs": [],
   "source": [
    "from scipy.integrate import quad as sp_quad\n",
    "import numpy as np\n"
   ]
  },
  {
   "cell_type": "code",
   "execution_count": 2,
   "metadata": {
    "ExecuteTime": {
     "end_time": "2019-11-26T18:31:20.231484Z",
     "start_time": "2019-11-26T18:31:20.216851Z"
    },
    "pycharm": {
     "is_executing": false
    }
   },
   "outputs": [],
   "source": [
    "def calculate_nodes(n):\n",
    "    b = (np.arange(1, n) + 1) / (2 * np.arange(1, n)  + 1)\n",
    "    L_matrix = np.diag(b, k=1) + np.diag(b, k=-1)\n",
    "    \n",
    "    return np.linalg.eigvals(L_matrix).astype(np.float)\n"
   ]
  },
  {
   "cell_type": "code",
   "execution_count": 7,
   "metadata": {
    "ExecuteTime": {
     "end_time": "2019-11-26T18:56:51.616769Z",
     "start_time": "2019-11-26T18:56:51.609571Z"
    },
    "pycharm": {
     "is_executing": false
    }
   },
   "outputs": [],
   "source": [
    "def calculate_weights(nodes):\n",
    "    size = len(nodes)\n",
    "    w = []\n",
    "    \n",
    "    for i in range(size):\n",
    "        L_polynom = lambda x: np.prod((np.delete(nodes, i) - x) / (np.delete(nodes, i) - nodes[i]))\n",
    "        weight = sp_quad(L_polynom, -1, 1)[0]\n",
    "        w.append(weight)\n",
    "        \n",
    "    return np.array(w)\n"
   ]
  },
  {
   "cell_type": "code",
   "execution_count": 4,
   "metadata": {
    "ExecuteTime": {
     "end_time": "2019-11-26T19:48:50.214606Z",
     "start_time": "2019-11-26T19:48:50.207952Z"
    },
    "pycharm": {
     "is_executing": false
    }
   },
   "outputs": [],
   "source": [
    "def gauss_quadrature(func, a, b, n):\n",
    "    centre = float(a + b) / 2\n",
    "    length = float(b - a) / 2\n",
    "    \n",
    "    nodes = calculate_nodes(n)\n",
    "    \n",
    "    next_x = centre + length * nodes\n",
    "    weights = calculate_weights(nodes)\n",
    "    \n",
    "    return np.sum(length * weights * func(next_x))\n"
   ]
  },
  {
   "cell_type": "code",
   "execution_count": 8,
   "metadata": {
    "ExecuteTime": {
     "end_time": "2019-11-26T19:55:59.879116Z",
     "start_time": "2019-11-26T19:55:59.873485Z"
    },
    "pycharm": {
     "is_executing": false
    }
   },
   "outputs": [],
   "source": [
    "def test(func, a, b, n):\n",
    "    my_integral = gauss_quadrature(func, a, b, n)\n",
    "    sp_integral = sp_quad(func, a, b)[0]\n",
    "    \n",
    "    print( \"my_integral: \", my_integral)\n",
    "    print( \"sp_integral: \", sp_integral)\n",
    "    print(\"Error: \", np.fabs(sp_integral - my_integral))\n",
    "    "
   ]
  },
  {
   "cell_type": "markdown",
   "metadata": {},
   "source": [
    "Проверка работоспособности:"
   ]
  },
  {
   "cell_type": "code",
   "execution_count": 13,
   "metadata": {
    "ExecuteTime": {
     "end_time": "2019-11-26T19:56:01.429630Z",
     "start_time": "2019-11-26T19:56:01.413784Z"
    },
    "pycharm": {
     "is_executing": false
    }
   },
   "outputs": [
    {
     "name": "stdout",
     "text": [
      "my_integral:  -0.7568024953078973\nsp_integral:  -0.7568024953079283\nError:  3.097522238704187e-14\n"
     ],
     "output_type": "stream"
    }
   ],
   "source": [
    "test(lambda x: np.cos(x), 0, 4, n=15)"
   ]
  }
 ],
 "metadata": {
  "hide_input": false,
  "kernelspec": {
   "display_name": "Python 3",
   "language": "python",
   "name": "python3"
  },
  "language_info": {
   "codemirror_mode": {
    "name": "ipython",
    "version": 3
   },
   "file_extension": ".py",
   "mimetype": "text/x-python",
   "name": "python",
   "nbconvert_exporter": "python",
   "pygments_lexer": "ipython3",
   "version": "3.7.4"
  },
  "varInspector": {
   "cols": {
    "lenName": 16,
    "lenType": 16,
    "lenVar": 40
   },
   "kernels_config": {
    "python": {
     "delete_cmd_postfix": "",
     "delete_cmd_prefix": "del ",
     "library": "var_list.py",
     "varRefreshCmd": "print(var_dic_list())"
    },
    "r": {
     "delete_cmd_postfix": ") ",
     "delete_cmd_prefix": "rm(",
     "library": "var_list.r",
     "varRefreshCmd": "cat(var_dic_list()) "
    }
   },
   "types_to_exclude": [
    "module",
    "function",
    "builtin_function_or_method",
    "instance",
    "_Feature"
   ],
   "window_display": false
  },
  "pycharm": {
   "stem_cell": {
    "cell_type": "raw",
    "source": [],
    "metadata": {
     "collapsed": false
    }
   }
  }
 },
 "nbformat": 4,
 "nbformat_minor": 2
}