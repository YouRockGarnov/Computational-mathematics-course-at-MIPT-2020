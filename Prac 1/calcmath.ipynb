{
  "cells": [
    {
      "cell_type": "code",
      "execution_count": 1,
      "outputs": [],
      "source": "import numpy as np\n",
      "metadata": {
        "pycharm": {
          "metadata": false,
          "name": "#%%\n",
          "is_executing": false
        }
      }
    },
    {
      "cell_type": "markdown",
      "source": "Следуя методу Гаусса, напишем функцию, принимающую линейную систему и решающую её.",
      "metadata": {
        "pycharm": {
          "metadata": false,
          "name": "#%% md\n"
        }
      }
    },
    {
      "cell_type": "code",
      "execution_count": 38,
      "outputs": [],
      "source": "def solve_lin_system(A, b):\n    n \u003d A.shape[0]\n    U \u003d np.copy(A)\n    \n    L \u003d np.zeros((n, n))\n    for i in range(n):\n        L[i][i] \u003d 1   \n    P \u003d np.copy(L)\n    \n    def _fill_ULP(U, L, P, i):\n        rest \u003d np.copy(U[i, i:n])\n        U[i, i:n] \u003d np.copy(U[index, i:n])\n        U[index, i:n] \u003d np.copy(rest)\n        \n        rest \u003d np.copy(L[i, :i])\n        L[i, 0:i] \u003d np.copy(L[index, 0:i])\n        L[index, 0:i] \u003d np.copy(rest)\n        \n        rest \u003d np.copy(P[i, :])\n        P[i, :] \u003d np.copy(P[index, :])\n        P[index, :] \u003d np.copy(rest)\n        \n        return U, L, P\n    \n    for i in range(n - 1):\n        index \u003d np.argmax(np.abs(U[i:n, i])) + i\n        U, L, P \u003d _fill_ULP(U, L, P, i)\n        \n        for j in range(i + 1, n):\n            L[j, i] \u003d U[j, i] / U[i, i]\n            U[j, i:n] \u003d U[j, i:n] - L[j, i] * U[i, i:n]\n    \n    next_b \u003d np.zeros(n)\n    \n    for i in range(n):\n        for j in range(n):\n            if (P[i, j] \u003d\u003d 1):\n                next_b[i] \u003d b[j]\n                \n    y \u003d np.zeros(n)\n    for i in range(n):\n        y[i] \u003d next_b[i]\n        for j in range(i):\n            y[i] -\u003d y[j] * L[i][j]\n        y[i] /\u003d L[i][i]\n        \n    # print(next_b)\n    # print(y)\n\n    x \u003d np.zeros(n)\n    for i in range(n - 1, -1, -1):\n        x[i] \u003d y[i]\n        for j in range(n - 1, i, -1):\n            x[i] -\u003d x[j] * U[i][j]\n        x[i] /\u003d U[i][i]\n    \n    return U, L, P, x\n",
      "metadata": {
        "pycharm": {
          "metadata": false,
          "name": "#%%\n",
          "is_executing": false
        }
      }
    },
    {
      "cell_type": "markdown",
      "source": "Сравним наше решение с аналогичным в np.linalg. \n\nДля этого будем генерировать матрицы заданного размера и вычислять евклидову норму разности нашего решения и из numpy. \n",
      "metadata": {
        "pycharm": {
          "metadata": false,
          "name": "#%% md\n"
        }
      }
    },
    {
      "cell_type": "code",
      "execution_count": 41,
      "outputs": [],
      "source": "def compare_my_solution_and_numpy(matrix_size):\n    print(f\u0027############### matrix_size \u003d\u003d {matrix_size} ###############\u0027, end\u003d\u0027\\n\\n\u0027)\n    \n    A \u003d np.random.rand(matrix_size, matrix_size)\n    b \u003d np.random.rand(matrix_size)\n    \n    print(b)\n    \n    U, L, P, result \u003d solve_lin_system(A, b)\n    # print(U, L, P)\n    \n    np_out \u003d np.linalg.solve(A, b)\n    \n    print(f\u0027solve_linear_system(A, b) \u003d\u003d {result}\u0027)\n    print(f\u0027np.linalg.solve(A, b) \u003d\u003d {np_out}\u0027)\n    print(\"np.linalg.norm(result - np_out, 2) \u003d\u003d %s\" % str(np.linalg.norm(result - np_out, 2)))\n    print()\n    ",
      "metadata": {
        "pycharm": {
          "metadata": false,
          "name": "#%%\n",
          "is_executing": false
        }
      }
    },
    {
      "cell_type": "code",
      "execution_count": 42,
      "outputs": [
        {
          "name": "stdout",
          "text": [
            "############### matrix_size \u003d\u003d 3 ###############\n\n[0.11062729 0.63899119 0.3084424 ]\nsolve_linear_system(A, b) \u003d\u003d [-6.0418092   1.40882723  8.46030528]\nnp.linalg.solve(A, b) \u003d\u003d [-6.0418092   1.40882723  8.46030528]\nnp.linalg.norm(result - np_out, 2) \u003d\u003d 0.0\n\n############### matrix_size \u003d\u003d 5 ###############\n\n[0.75928687 0.18803727 0.25512291 0.43922731 0.28306755]\nsolve_linear_system(A, b) \u003d\u003d [ 0.10085169 -0.17294323  0.34774807 -0.62455854  0.94787639]\nnp.linalg.solve(A, b) \u003d\u003d [ 0.10085169 -0.17294323  0.34774807 -0.62455854  0.94787639]\nnp.linalg.norm(result - np_out, 2) \u003d\u003d 2.2073972817097756e-16\n\n############### matrix_size \u003d\u003d 10 ###############\n\n[0.36432431 0.05155039 0.0096095  0.22345004 0.53374594 0.65224212\n 0.62879261 0.46476916 0.23836978 0.4176991 ]\nsolve_linear_system(A, b) \u003d\u003d [ 0.20356314 -0.01010428 -0.43675749  0.32061358  0.92688616  1.033931\n -2.07773965  0.52793287 -0.88080982  0.84506885]\nnp.linalg.solve(A, b) \u003d\u003d [ 0.20356314 -0.01010428 -0.43675749  0.32061358  0.92688616  1.033931\n -2.07773965  0.52793287 -0.88080982  0.84506885]\nnp.linalg.norm(result - np_out, 2) \u003d\u003d 1.476151829070967e-15\n\n############### matrix_size \u003d\u003d 30 ###############\n\n[0.07141784 0.20314799 0.38824689 0.51521423 0.67485738 0.91629375\n 0.32744873 0.73434992 0.82768023 0.78397931 0.94792542 0.41787137\n 0.18394672 0.36053798 0.62563616 0.01442506 0.90648154 0.28172101\n 0.7914215  0.37891811 0.0052437  0.1391309  0.99663398 0.29857454\n 0.24182361 0.49255732 0.22718956 0.38590838 0.81514966 0.57838313]\nsolve_linear_system(A, b) \u003d\u003d [ 4.06996177 -0.13956485  3.47325709  2.10095093 -0.15064373  0.9278761\n  4.33764845 -1.23958691  0.10947252  1.5609116  -1.60260996 -1.08256729\n -1.55622303  4.17145375 -3.0419467  -0.55442518  0.1396064  -4.05957407\n -1.39914949  0.08080064  0.99927868 -2.74632414 -0.92306901 -2.62421037\n  0.3844447  -0.30066803  0.31444621 -1.11140276  0.20024284  1.97264907]\nnp.linalg.solve(A, b) \u003d\u003d [ 4.06996177 -0.13956485  3.47325709  2.10095093 -0.15064373  0.9278761\n  4.33764845 -1.23958691  0.10947252  1.5609116  -1.60260996 -1.08256729\n -1.55622303  4.17145375 -3.0419467  -0.55442518  0.1396064  -4.05957407\n -1.39914949  0.08080064  0.99927868 -2.74632414 -0.92306901 -2.62421037\n  0.3844447  -0.30066803  0.31444621 -1.11140276  0.20024284  1.97264907]\nnp.linalg.norm(result - np_out, 2) \u003d\u003d 2.4734130913202594e-14\n\n"
          ],
          "output_type": "stream"
        }
      ],
      "source": "compare_my_solution_and_numpy(3)\ncompare_my_solution_and_numpy(5)\ncompare_my_solution_and_numpy(10)\ncompare_my_solution_and_numpy(30)",
      "metadata": {
        "pycharm": {
          "metadata": false,
          "name": "#%%\n",
          "is_executing": false
        }
      }
    }
  ],
  "metadata": {
    "language_info": {
      "codemirror_mode": {
        "name": "ipython",
        "version": 2
      },
      "file_extension": ".py",
      "mimetype": "text/x-python",
      "name": "python",
      "nbconvert_exporter": "python",
      "pygments_lexer": "ipython2",
      "version": "2.7.6"
    },
    "kernelspec": {
      "name": "python3",
      "language": "python",
      "display_name": "Python 3"
    },
    "stem_cell": {
      "cell_type": "raw",
      "source": "",
      "metadata": {
        "pycharm": {
          "metadata": false
        }
      }
    }
  },
  "nbformat": 4,
  "nbformat_minor": 0
}